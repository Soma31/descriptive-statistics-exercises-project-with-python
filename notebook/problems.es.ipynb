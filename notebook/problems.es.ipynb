{
    "cells": [
        {
            "cell_type": "markdown",
            "id": "ac622319",
            "metadata": {},
            "source": [
                "# Problemas de Estadística Descriptica"
            ]
        },
        {
            "cell_type": "markdown",
            "id": "5e0ab0d5",
            "metadata": {},
            "source": [
                "### Ejercicio 1\n",
                "\n",
                "Usaremos NumPy para obtener información y describir estadísticamente.\n",
                "\n",
                "- Generar un arreglo de 100 elementos que sigan una distribución normal.\n",
                "- Generar un arreglo de 100 elementos que sigan una distribución chi-cuadrado con 3 grados de libertad.\n",
                "- Calcular las métricas principales y las medidas estadísticas que mejor describan los dos vectores."
            ]
        },
        {
            "cell_type": "code",
            "execution_count": 4,
            "id": "df526fe0",
            "metadata": {},
            "outputs": [],
            "source": [
                "import numpy as np \n",
                "import pandas as pd \n",
                "import statistics as stats\n",
                "import matplotlib.pyplot as plt\n",
                "import seaborn as sns\n",
                "from scipy.stats import skew, kurtosis"
            ]
        },
        {
            "cell_type": "code",
            "execution_count": null,
            "id": "34720ab6",
            "metadata": {},
            "outputs": [
                {
                    "data": {
                        "text/plain": [
                            "array([-3.51911331e-02, -2.41226054e+00, -4.31337709e-01, -1.61325157e+00,\n",
                            "        8.97052725e-01,  3.11723581e-01,  1.42245448e-01,  1.02961295e+00,\n",
                            "       -1.20472000e+00, -4.88704069e-01,  3.45557469e-01, -2.16951824e-01,\n",
                            "        1.62373362e+00, -1.94131873e+00, -8.82661023e-01,  2.50372347e-03,\n",
                            "       -6.32209341e-01,  8.20322959e-01,  9.43358757e-01,  9.51236830e-01,\n",
                            "       -1.98620136e+00,  2.83056738e+00, -5.36831005e-01, -1.92086540e+00,\n",
                            "        1.01831931e+00,  4.81438996e-01, -1.30725426e+00,  8.77995074e-01,\n",
                            "       -5.36339463e-01,  6.93177602e-01, -1.02683717e+00, -9.70486631e-01,\n",
                            "        1.79339493e+00, -2.01986092e-01,  4.61486340e-01,  4.07159126e-01,\n",
                            "        2.15712681e-01,  4.81031321e-01,  2.49843896e-01, -1.44731663e+00,\n",
                            "        8.18025163e-01, -2.23152863e-01,  1.66620077e+00, -1.89980835e+00,\n",
                            "        1.71949194e+00, -3.60293277e-01,  5.31715215e-01, -9.58593954e-01,\n",
                            "        8.42758217e-01,  5.23293999e-01, -3.76968637e-01, -8.66293049e-01,\n",
                            "        1.13468473e+00, -1.39423646e+00,  1.09619303e-01,  1.99213471e+00,\n",
                            "       -3.66618521e-01, -4.38884067e-01,  4.45832112e-01, -3.66457624e-01,\n",
                            "       -5.27104577e-01,  2.30880950e-01,  3.38210132e-01,  7.80540645e-01,\n",
                            "        1.16890437e+00, -1.22315777e+00, -2.27127341e+00, -1.12297101e-01,\n",
                            "       -8.63693226e-01,  6.61029666e-01, -1.73604529e-01,  2.03769417e+00,\n",
                            "        4.13315918e-01, -9.53930084e-01, -3.92362382e-01, -1.46607533e+00,\n",
                            "       -3.53909918e-01, -1.10394916e+00,  1.72456602e+00,  1.04320243e+00,\n",
                            "        1.34069407e-01, -3.68001505e-01, -7.02485280e-01,  1.68770645e+00,\n",
                            "        8.07637091e-01,  3.34587814e-01,  2.63823470e-01, -1.75029134e+00,\n",
                            "        1.48724316e+00, -2.31407618e-01, -6.48470120e-01, -9.19411332e-01,\n",
                            "       -1.74632142e+00,  3.73573511e-01,  9.51980368e-01, -2.07072147e+00,\n",
                            "       -1.89599075e+00,  5.39881449e-02,  1.84516296e+00, -4.19175921e-02])"
                        ]
                    },
                    "execution_count": 16,
                    "metadata": {},
                    "output_type": "execute_result"
                }
            ],
            "source": [
                "# Genero arreglo de datos aleatorios con una distribución normal\n",
                "\n",
                "data_normal_dist = np.random.normal(loc = 0, scale = 1, size = 100)\n",
                "data_normal_dist"
            ]
        },
        {
            "cell_type": "code",
            "execution_count": null,
            "id": "d4e55cbe",
            "metadata": {},
            "outputs": [
                {
                    "data": {
                        "text/plain": [
                            "array([ 1.71765401, 10.44783243,  0.68164467,  1.99864551,  3.6182904 ,\n",
                            "        0.49234475,  3.37107235,  6.33644676,  1.28126901,  0.22336011,\n",
                            "        9.27886063,  1.46236558,  0.53650569,  1.70193383,  1.95456896,\n",
                            "        7.34775879,  0.66643439,  6.02463529,  4.00707704,  1.74067989,\n",
                            "        0.57421237,  2.38828458,  3.81373159,  2.42193437,  1.26980004,\n",
                            "        2.54361939,  2.68576846,  0.45652204,  2.34941448,  4.71829096,\n",
                            "       10.46655928,  2.57593833,  1.68353692,  2.78154095,  2.76017812,\n",
                            "        4.03962124,  2.44131086,  2.54559351,  2.52281281,  2.23902991,\n",
                            "        3.10323618,  2.11680191,  4.5035602 ,  7.68916994,  4.70061912,\n",
                            "        4.11544838,  2.44117709,  9.50869426,  2.90424856,  0.43033075,\n",
                            "        0.91842709,  6.9127959 ,  1.6444211 ,  1.0334021 ,  0.81423391,\n",
                            "        3.93430455,  2.21236404,  7.18100221,  0.61590746,  2.13170764,\n",
                            "        4.27588948,  1.14377106,  3.89398627,  1.05308054,  0.92411761,\n",
                            "        4.02249016, 10.82389836,  1.96573672,  1.75305526,  0.68577814,\n",
                            "        3.12357755,  0.56283764,  3.26459904,  2.19217444,  3.06748374,\n",
                            "        1.30754801,  3.26166756,  3.54968138,  0.56238298,  6.52690137,\n",
                            "        0.89500974,  7.11450655,  8.56674859,  3.273212  ,  2.89072155,\n",
                            "        1.98579454,  3.89883185,  2.20441796,  0.78776253,  0.59699712,\n",
                            "        3.85095223,  0.14241269,  7.46742892,  3.49400223,  0.19094567,\n",
                            "        2.06471268,  0.52455473,  4.52958226,  1.38507094,  3.96989718])"
                        ]
                    },
                    "execution_count": 17,
                    "metadata": {},
                    "output_type": "execute_result"
                }
            ],
            "source": [
                "# Genero arreglo de datos aleatorios con una distribución chi cuadrada\n",
                "\n",
                "data_chi_dist = np.random.chisquare(df=3, size=100)\n",
                "data_chi_dist"
            ]
        },
        {
            "cell_type": "code",
            "execution_count": null,
            "id": "b947d6cd",
            "metadata": {},
            "outputs": [
                {
                    "data": {
                        "text/html": [
                            "<div>\n",
                            "<style scoped>\n",
                            "    .dataframe tbody tr th:only-of-type {\n",
                            "        vertical-align: middle;\n",
                            "    }\n",
                            "\n",
                            "    .dataframe tbody tr th {\n",
                            "        vertical-align: top;\n",
                            "    }\n",
                            "\n",
                            "    .dataframe thead th {\n",
                            "        text-align: right;\n",
                            "    }\n",
                            "</style>\n",
                            "<table border=\"1\" class=\"dataframe\">\n",
                            "  <thead>\n",
                            "    <tr style=\"text-align: right;\">\n",
                            "      <th></th>\n",
                            "      <th>Distribución Normal</th>\n",
                            "      <th>Distribución Chi</th>\n",
                            "    </tr>\n",
                            "  </thead>\n",
                            "  <tbody>\n",
                            "    <tr>\n",
                            "      <th>0</th>\n",
                            "      <td>-0.035191</td>\n",
                            "      <td>1.717654</td>\n",
                            "    </tr>\n",
                            "    <tr>\n",
                            "      <th>1</th>\n",
                            "      <td>-2.412261</td>\n",
                            "      <td>10.447832</td>\n",
                            "    </tr>\n",
                            "    <tr>\n",
                            "      <th>2</th>\n",
                            "      <td>-0.431338</td>\n",
                            "      <td>0.681645</td>\n",
                            "    </tr>\n",
                            "    <tr>\n",
                            "      <th>3</th>\n",
                            "      <td>-1.613252</td>\n",
                            "      <td>1.998646</td>\n",
                            "    </tr>\n",
                            "    <tr>\n",
                            "      <th>4</th>\n",
                            "      <td>0.897053</td>\n",
                            "      <td>3.618290</td>\n",
                            "    </tr>\n",
                            "    <tr>\n",
                            "      <th>...</th>\n",
                            "      <td>...</td>\n",
                            "      <td>...</td>\n",
                            "    </tr>\n",
                            "    <tr>\n",
                            "      <th>95</th>\n",
                            "      <td>-2.070721</td>\n",
                            "      <td>2.064713</td>\n",
                            "    </tr>\n",
                            "    <tr>\n",
                            "      <th>96</th>\n",
                            "      <td>-1.895991</td>\n",
                            "      <td>0.524555</td>\n",
                            "    </tr>\n",
                            "    <tr>\n",
                            "      <th>97</th>\n",
                            "      <td>0.053988</td>\n",
                            "      <td>4.529582</td>\n",
                            "    </tr>\n",
                            "    <tr>\n",
                            "      <th>98</th>\n",
                            "      <td>1.845163</td>\n",
                            "      <td>1.385071</td>\n",
                            "    </tr>\n",
                            "    <tr>\n",
                            "      <th>99</th>\n",
                            "      <td>-0.041918</td>\n",
                            "      <td>3.969897</td>\n",
                            "    </tr>\n",
                            "  </tbody>\n",
                            "</table>\n",
                            "<p>100 rows × 2 columns</p>\n",
                            "</div>"
                        ],
                        "text/plain": [
                            "    Distribución Normal  Distribución Chi\n",
                            "0             -0.035191          1.717654\n",
                            "1             -2.412261         10.447832\n",
                            "2             -0.431338          0.681645\n",
                            "3             -1.613252          1.998646\n",
                            "4              0.897053          3.618290\n",
                            "..                  ...               ...\n",
                            "95            -2.070721          2.064713\n",
                            "96            -1.895991          0.524555\n",
                            "97             0.053988          4.529582\n",
                            "98             1.845163          1.385071\n",
                            "99            -0.041918          3.969897\n",
                            "\n",
                            "[100 rows x 2 columns]"
                        ]
                    },
                    "execution_count": 18,
                    "metadata": {},
                    "output_type": "execute_result"
                }
            ],
            "source": [
                "# Convierto los arreglos de datos en un dataframe para su visualización\n",
                "\n",
                "df = pd.DataFrame(data_normal_dist)\n",
                "df.columns = ['Distribución Normal']\n",
                "\n",
                "df['Distribución Chi'] = pd.DataFrame(data_chi_dist)\n",
                "df"
            ]
        },
        {
            "cell_type": "code",
            "execution_count": null,
            "id": "2fc95168",
            "metadata": {},
            "outputs": [
                {
                    "name": "stdout",
                    "output_type": "stream",
                    "text": [
                        "count    100.000000\n",
                        "mean       0.084851\n",
                        "std        1.042755\n",
                        "min       -1.928737\n",
                        "25%       -0.616087\n",
                        "50%        0.113765\n",
                        "75%        0.737942\n",
                        "max        3.114976\n",
                        "Name: Distribución Normal, dtype: float64\n",
                        "count    100.000000\n",
                        "mean       2.744559\n",
                        "std        2.347549\n",
                        "min        0.076819\n",
                        "25%        1.040660\n",
                        "50%        2.149017\n",
                        "75%        3.758209\n",
                        "max       11.002581\n",
                        "Name: Distribución Chi, dtype: float64\n"
                    ]
                }
            ],
            "source": [
                "# Aplico describe a cada una de las distribuciones para obtener sus estadísticas descriptivas\n",
                "\n",
                "print(df['Distribución Normal'].describe())\n",
                "print(df['Distribución Chi'].describe())\n"
            ]
        },
        {
            "cell_type": "code",
            "execution_count": null,
            "id": "cf3cbeb7",
            "metadata": {},
            "outputs": [
                {
                    "data": {
                        "text/plain": [
                            "(array([12., 16., 13., 13.,  9.,  9.,  5.,  4.,  3.,  5.,  1.,  1.,  2.,\n",
                            "         3.,  0.,  0.,  1.,  0.,  2.,  1.]),\n",
                            " array([ 0.07681921,  0.62310732,  1.16939542,  1.71568352,  2.26197163,\n",
                            "         2.80825973,  3.35454783,  3.90083594,  4.44712404,  4.99341214,\n",
                            "         5.53970024,  6.08598835,  6.63227645,  7.17856455,  7.72485266,\n",
                            "         8.27114076,  8.81742886,  9.36371697,  9.91000507, 10.45629317,\n",
                            "        11.00258127]),\n",
                            " <BarContainer object of 20 artists>)"
                        ]
                    },
                    "execution_count": 10,
                    "metadata": {},
                    "output_type": "execute_result"
                },
                {
                    "data": {
                        "image/png": "[encoded data removed]",
                        "text/plain": [
                            "<Figure size 1000x600 with 1 Axes>"
                        ]
                    },
                    "metadata": {},
                    "output_type": "display_data"
                }
            ],
            "source": [
                "# Grafico las distribuciones\n",
                "\n",
                "plt.figure(figsize=(10,6))\n",
                "plt.hist(df['Distribución Normal'], bins=20, color='blue', alpha=0.7, label='Distribución Normal')\n",
                "plt.hist(df['Distribución Chi'], bins=20, color='red', alpha=0.7, label='Distribución Chi')"
            ]
        },
        {
            "cell_type": "code",
            "execution_count": 19,
            "id": "a8bc88ad",
            "metadata": {},
            "outputs": [
                {
                    "name": "stdout",
                    "output_type": "stream",
                    "text": [
                        "\u001b[1mMedidas de Tendencia Central\u001b[0m\n",
                        "\n",
                        "El promedio de la distribución normal es: -0.04161059118248554\n",
                        "El promedio de la distribución chi es: 3.0887315201246586\n",
                        "\n",
                        "La moda de la distribución normal es: -0.03519113305491277\n",
                        "La moda de la distribución chi es: 1.7176540131348483\n",
                        "\n",
                        "La mediana de la distribución normal es: -0.01634370479415124\n",
                        "La mediana de la distribución chi es: 2.44124397715484\n",
                        "\n",
                        "\u001b[1mMedidas de Dispersión\u001b[0m\n",
                        "\n",
                        "El valor máximo de la distribución normal es: 2.8305673811485406\n",
                        "El valor mínimo de la distribución normal es: -2.4122605368744106\n",
                        "\n",
                        "El valor máximo de la distribución chi es: 10.823898362979742\n",
                        "El valor mínimo de la distribución chi es: 0.142412690702573\n",
                        "\n",
                        "La varianza de la distribución normal es: 1.2276972705793614\n",
                        "La varianza de la distribución chi es: 6.268417256379748\n",
                        "\n",
                        "La desviación estándar de la distribución normal es: 1.108015013697631\n",
                        "La desviación estándar de la distribución chi es: 2.503680741704051\n",
                        "\n",
                        "\u001b[1mAsimetría y Curtosis\u001b[0m\n",
                        "\n",
                        "La asimetría de la distribución normal es: -0.013261015959191996\n",
                        "La asimetría de la distribución chi es: 1.347396371221922\n",
                        "\n",
                        "La kurtosis de la distribución normal es: -0.4351260636667491\n",
                        "La kurtosis de la distribución chi es: 1.3609915469871723\n"
                    ]
                }
            ],
            "source": [
                "# CALCULO DE ESTADÍSTICAS DESCRIPTIVAS\n",
                "\n",
                "# Medidas de Tendencia Central\n",
                "print('\\033[1mMedidas de Tendencia Central\\033[0m\\n')\n",
                "\n",
                "# Promedio\n",
                "\n",
                "data_normal_dist_promedio = stats.mean(df['Distribución Normal'])\n",
                "data_chi_dist_promedio = stats.mean(df['Distribución Chi'])\n",
                "\n",
                "print(f'El promedio de la distribución normal es: {data_normal_dist_promedio}\\nEl promedio de la distribución chi es: {data_chi_dist_promedio}')\n",
                "\n",
                "# Moda\n",
                "\n",
                "data_normal_dist_moda = stats.mode(df['Distribución Normal'])\n",
                "data_chi_dist_moda = stats.mode(df['Distribución Chi'])\n",
                "\n",
                "print(f'\\nLa moda de la distribución normal es: {data_normal_dist_moda}\\nLa moda de la distribución chi es: {data_chi_dist_moda}')\n",
                "\n",
                "# Mediana\n",
                "\n",
                "data_normal_dist_mediana = stats.median(df['Distribución Normal'])\n",
                "data_chi_dist_mediana = stats.median(df['Distribución Chi'])\n",
                "\n",
                "print(f'\\nLa mediana de la distribución normal es: {data_normal_dist_mediana}\\nLa mediana de la distribución chi es: {data_chi_dist_mediana}')\n",
                "\n",
                "# Medidas de Dispersión\n",
                "print('\\n\\033[1mMedidas de Dispersión\\033[0m')\n",
                "\n",
                "# Rango\n",
                "\n",
                "df_normal_max_valor = df['Distribución Normal'].max()\n",
                "df_normal_min_valor = df['Distribución Normal'].min()\n",
                "\n",
                "df_chi_max_valor = df['Distribución Chi'].max()\n",
                "df_chi_min_valor = df['Distribución Chi'].min()\n",
                "\n",
                "print(f'\\nEl valor máximo de la distribución normal es: {df_normal_max_valor}\\nEl valor mínimo de la distribución normal es: {df_normal_min_valor}')\n",
                "print(f'\\nEl valor máximo de la distribución chi es: {df_chi_max_valor}\\nEl valor mínimo de la distribución chi es: {df_chi_min_valor}')\n",
                "\n",
                "# Varianza\n",
                "\n",
                "df_normal_varianza = stats.variance(df['Distribución Normal'])\n",
                "df_chi_varianza = stats.variance(df['Distribución Chi'])\n",
                "\n",
                "print(f'\\nLa varianza de la distribución normal es: {df_normal_varianza}\\nLa varianza de la distribución chi es: {df_chi_varianza}')\n",
                "\n",
                "# Desviación\n",
                "\n",
                "df_normal_desviacion = stats.stdev(df['Distribución Normal'])\n",
                "df_chi_desviacion = stats.stdev(df['Distribución Chi'])\n",
                "\n",
                "print(f'\\nLa desviación estándar de la distribución normal es: {df_normal_desviacion}\\nLa desviación estándar de la distribución chi es: {df_chi_desviacion}')\n",
                "\n",
                "# Asimetría y Curtosis\n",
                "\n",
                "print('\\n\\033[1mAsimetría y Curtosis\\033[0m\\n')\n",
                "\n",
                "df_normal_asimetria = skew(df['Distribución Normal'])\n",
                "df_chi_asimetria = skew(df['Distribución Chi'])\n",
                "\n",
                "print(f'La asimetría de la distribución normal es: {df_normal_asimetria}\\nLa asimetría de la distribución chi es: {df_chi_asimetria}')\n",
                "\n",
                "df_normal_kurtosis = kurtosis(df['Distribución Normal'])\n",
                "df_chi_kurtosis = kurtosis(df['Distribución Chi'])\n",
                "\n",
                "print(f'\\nLa kurtosis de la distribución normal es: {df_normal_kurtosis}\\nLa kurtosis de la distribución chi es: {df_chi_kurtosis}')"
            ]
        },
        {
            "cell_type": "markdown",
            "id": "46c70c3d",
            "metadata": {},
            "source": [
                "### Ejercicio 2\n",
                "\n",
                "Escribe un programa en Python para calcular la desviación estándar de los siguientes datos:\n",
                "\n",
                "```py\n",
                "data = [4, 2, 5, 8, 6]\n",
                "```"
            ]
        },
        {
            "cell_type": "code",
            "execution_count": 20,
            "id": "d590308e",
            "metadata": {},
            "outputs": [
                {
                    "name": "stdout",
                    "output_type": "stream",
                    "text": [
                        "La varianza es: 4.0\n",
                        "La desviación estándar es: 2.0\n"
                    ]
                }
            ],
            "source": [
                "# Cálculo de Desviación Estándar\n",
                "\n",
                "data = [4,2,5,8,6]\n",
                "\n",
                "count = 0\n",
                "for i in data:\n",
                "  count += i\n",
                "\n",
                "df_promedio = count / len(data)\n",
                "df_promedio\n",
                "\n",
                "resultado = 0\n",
                "for i in data:\n",
                "  resultado += (i - df_promedio) ** 2\n",
                "\n",
                "df_varianza = resultado / len(data)\n",
                "df_varianza\n",
                "\n",
                "df_desviacion = df_varianza ** 0.5\n",
                "df_desviacion\n",
                "\n",
                "print(f'La varianza es: {df_varianza}\\nLa desviación estándar es: {df_desviacion}')"
            ]
        }
    ],
    "metadata": {
        "kernelspec": {
            "display_name": "Python 3",
            "language": "python",
            "name": "python3"
        },
        "language_info": {
            "codemirror_mode": {
                "name": "ipython",
                "version": 3
            },
            "file_extension": ".py",
            "mimetype": "text/x-python",
            "name": "python",
            "nbconvert_exporter": "python",
            "pygments_lexer": "ipython3",
            "version": "3.11.4"
        }
    },
    "nbformat": 4,
    "nbformat_minor": 5
}
